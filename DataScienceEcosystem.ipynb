{
 "cells": [
  {
   "cell_type": "markdown",
   "id": "dd50f841-844f-4480-91b8-ebbca2c88154",
   "metadata": {},
   "source": [
    "# Data science tools and Ecosystem"
   ]
  },
  {
   "cell_type": "markdown",
   "id": "1b1aef9b-e323-4a91-879f-de66faef4d8c",
   "metadata": {},
   "source": [
    "In this notebook, Data Science Tools and Ecosystem are summarized.\n"
   ]
  },
  {
   "cell_type": "markdown",
   "id": "d9de768a-43f4-4b8b-b934-96824aaeacc8",
   "metadata": {},
   "source": [
    "**Objectives**"
   ]
  },
  {
   "cell_type": "markdown",
   "id": "c0893869-508c-4955-9a2e-0300a3012b86",
   "metadata": {},
   "source": [
    "Some of the popular languages that data scientists use are"
   ]
  },
  {
   "cell_type": "markdown",
   "id": "28f80068-9cb5-4434-83f8-e98ec0a48182",
   "metadata": {},
   "source": [
    "- Python\n",
    "- R\n",
    "- SQL"
   ]
  },
  {
   "cell_type": "markdown",
   "id": "c35314b1-1fbd-455a-bb69-c3624bf82d6b",
   "metadata": {},
   "source": [
    "Some of the commonly used libraries used by Data Scientists include\n",
    "1 Numpy\n",
    "2 Panda\n",
    "3 Tensorflow"
   ]
  },
  {
   "cell_type": "markdown",
   "id": "80535d7f-b177-4531-b741-d685c29460f2",
   "metadata": {},
   "source": [
    "| Data Science Tools |\n",
    "|--------------------|\n",
    "| Apache |\n",
    "| Spark |\n",
    "| Tableau |\n"
   ]
  },
  {
   "cell_type": "markdown",
   "id": "c6df97f9-9aff-42ba-b5ce-b63b63b5d1ef",
   "metadata": {},
   "source": [
    "### Below are a few examples of evaluating arithmetic expressions in Python"
   ]
  },
  {
   "cell_type": "markdown",
   "id": "6d2d9419-a9cc-45bb-9674-386bfbc3b006",
   "metadata": {},
   "source": [
    " This a simple arithmetic expression to mutiply then add integers\n"
   ]
  },
  {
   "cell_type": "code",
   "execution_count": 2,
   "id": "c54c8faa-e6b8-4ca6-b288-8aa3d7836742",
   "metadata": {},
   "outputs": [
    {
     "data": {
      "text/plain": [
       "17"
      ]
     },
     "execution_count": 2,
     "metadata": {},
     "output_type": "execute_result"
    }
   ],
   "source": [
    "(3*4)+5"
   ]
  },
  {
   "cell_type": "markdown",
   "id": "282a9078-ec65-4d31-895d-e737b943e40f",
   "metadata": {},
   "source": [
    "# This will convert 200 minutes to hours by diving by 60\n"
   ]
  },
  {
   "cell_type": "code",
   "execution_count": 3,
   "id": "482459d5-8516-4c8c-9b18-8ff8f7358154",
   "metadata": {},
   "outputs": [
    {
     "data": {
      "text/plain": [
       "3.3333333333333335"
      ]
     },
     "execution_count": 3,
     "metadata": {},
     "output_type": "execute_result"
    }
   ],
   "source": [
    "200/60"
   ]
  },
  {
   "cell_type": "markdown",
   "id": "71360cfc-490a-4594-a165-c15011b03838",
   "metadata": {},
   "source": [
    "## Author\n",
    "Krunal Solanki"
   ]
  },
  {
   "cell_type": "code",
   "execution_count": null,
   "id": "bd96bc37-3a14-4088-885c-5e66c6d49f54",
   "metadata": {},
   "outputs": [],
   "source": []
  }
 ],
 "metadata": {
  "kernelspec": {
   "display_name": "Python 3 (ipykernel)",
   "language": "python",
   "name": "python3"
  },
  "language_info": {
   "codemirror_mode": {
    "name": "ipython",
    "version": 3
   },
   "file_extension": ".py",
   "mimetype": "text/x-python",
   "name": "python",
   "nbconvert_exporter": "python",
   "pygments_lexer": "ipython3",
   "version": "3.12.8"
  }
 },
 "nbformat": 4,
 "nbformat_minor": 5
}
